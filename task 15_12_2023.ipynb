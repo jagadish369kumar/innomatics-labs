{
 "cells": [
  {
   "cell_type": "code",
   "execution_count": 7,
   "id": "8a3a7f22",
   "metadata": {},
   "outputs": [],
   "source": [
    "import pandas as pd"
   ]
  },
  {
   "cell_type": "code",
   "execution_count": 8,
   "id": "8c2fe8e4",
   "metadata": {},
   "outputs": [
    {
     "data": {
      "text/html": [
       "<div>\n",
       "<style scoped>\n",
       "    .dataframe tbody tr th:only-of-type {\n",
       "        vertical-align: middle;\n",
       "    }\n",
       "\n",
       "    .dataframe tbody tr th {\n",
       "        vertical-align: top;\n",
       "    }\n",
       "\n",
       "    .dataframe thead th {\n",
       "        text-align: right;\n",
       "    }\n",
       "</style>\n",
       "<table border=\"1\" class=\"dataframe\">\n",
       "  <thead>\n",
       "    <tr style=\"text-align: right;\">\n",
       "      <th></th>\n",
       "      <th>product A</th>\n",
       "      <th>product B</th>\n",
       "    </tr>\n",
       "  </thead>\n",
       "  <tbody>\n",
       "    <tr>\n",
       "      <th>0</th>\n",
       "      <td>25</td>\n",
       "      <td>40</td>\n",
       "    </tr>\n",
       "    <tr>\n",
       "      <th>1</th>\n",
       "      <td>30</td>\n",
       "      <td>35</td>\n",
       "    </tr>\n",
       "    <tr>\n",
       "      <th>2</th>\n",
       "      <td>28</td>\n",
       "      <td>38</td>\n",
       "    </tr>\n",
       "    <tr>\n",
       "      <th>3</th>\n",
       "      <td>32</td>\n",
       "      <td>41</td>\n",
       "    </tr>\n",
       "    <tr>\n",
       "      <th>4</th>\n",
       "      <td>26</td>\n",
       "      <td>37</td>\n",
       "    </tr>\n",
       "    <tr>\n",
       "      <th>5</th>\n",
       "      <td>29</td>\n",
       "      <td>36</td>\n",
       "    </tr>\n",
       "    <tr>\n",
       "      <th>6</th>\n",
       "      <td>27</td>\n",
       "      <td>39</td>\n",
       "    </tr>\n",
       "    <tr>\n",
       "      <th>7</th>\n",
       "      <td>33</td>\n",
       "      <td>42</td>\n",
       "    </tr>\n",
       "    <tr>\n",
       "      <th>8</th>\n",
       "      <td>31</td>\n",
       "      <td>38</td>\n",
       "    </tr>\n",
       "    <tr>\n",
       "      <th>9</th>\n",
       "      <td>28</td>\n",
       "      <td>37</td>\n",
       "    </tr>\n",
       "    <tr>\n",
       "      <th>10</th>\n",
       "      <td>30</td>\n",
       "      <td>40</td>\n",
       "    </tr>\n",
       "    <tr>\n",
       "      <th>11</th>\n",
       "      <td>29</td>\n",
       "      <td>36</td>\n",
       "    </tr>\n",
       "  </tbody>\n",
       "</table>\n",
       "</div>"
      ],
      "text/plain": [
       "    product A  product B\n",
       "0          25         40\n",
       "1          30         35\n",
       "2          28         38\n",
       "3          32         41\n",
       "4          26         37\n",
       "5          29         36\n",
       "6          27         39\n",
       "7          33         42\n",
       "8          31         38\n",
       "9          28         37\n",
       "10         30         40\n",
       "11         29         36"
      ]
     },
     "execution_count": 8,
     "metadata": {},
     "output_type": "execute_result"
    }
   ],
   "source": [
    "x = ({'product A':(25,30,28,32,26,29,27,33,31,28,30,29), 'product B':(40,35,38,41,37,36,39,42,38,37,40,36)})\n",
    "a = pd.DataFrame(x)\n",
    "a"
   ]
  },
  {
   "cell_type": "markdown",
   "id": "d3ca0fd2",
   "metadata": {},
   "source": [
    "# Measures of Central Tendency:\n"
   ]
  },
  {
   "cell_type": "markdown",
   "id": "0f81dc99",
   "metadata": {},
   "source": [
    "#### 1.Calculate the mean sales for Product A and Product B. Compare the average monthly sales for the two products and discuss any observed trends.\n"
   ]
  },
  {
   "cell_type": "markdown",
   "id": "6ba095c0",
   "metadata": {},
   "source": [
    "* Mean Sales:\n",
    "* Product A: 29.00\n",
    "* Product B: 38.25\n",
    "* Observations: Product B has higher average monthly sales than Product A.\n"
   ]
  },
  {
   "cell_type": "code",
   "execution_count": 9,
   "id": "4400f1fb",
   "metadata": {},
   "outputs": [
    {
     "data": {
      "text/plain": [
       "product A    29.00\n",
       "product B    38.25\n",
       "dtype: float64"
      ]
     },
     "execution_count": 9,
     "metadata": {},
     "output_type": "execute_result"
    }
   ],
   "source": [
    "a.mean()"
   ]
  },
  {
   "cell_type": "markdown",
   "id": "2f87da41",
   "metadata": {},
   "source": [
    "#"
   ]
  },
  {
   "cell_type": "markdown",
   "id": "0576f441",
   "metadata": {},
   "source": [
    "#### 2.Find the median sales for each product and discuss how it reflects the central tendency of the sales distribution."
   ]
  },
  {
   "cell_type": "markdown",
   "id": "27859967",
   "metadata": {},
   "source": [
    "* The median sales values are the same as the mean sales values for both products, indicating that the sales distributions are symmetrical.\n",
    "\n",
    "*  The median sales for Product A and Product B are both 29.00 and 38.00, respectively. This is the same as the mean sales values   for both products, indicating that the sales distributions are symmetrical. In a symmetrical distribution, the median, mean, and mode are all equal or very close to each other. This means that the central tendency of the data is well represented by all three measures of central tendency."
   ]
  },
  {
   "cell_type": "code",
   "execution_count": 10,
   "id": "5ffd5f36",
   "metadata": {},
   "outputs": [
    {
     "data": {
      "text/plain": [
       "product A    29.0\n",
       "product B    38.0\n",
       "dtype: float64"
      ]
     },
     "execution_count": 10,
     "metadata": {},
     "output_type": "execute_result"
    }
   ],
   "source": [
    "a.median()"
   ]
  },
  {
   "cell_type": "markdown",
   "id": "f3415308",
   "metadata": {},
   "source": [
    "#"
   ]
  },
  {
   "cell_type": "markdown",
   "id": "7625eaf2",
   "metadata": {},
   "source": [
    "#### 3.Identify the mode of the sales data for both Product A and Product B. Discuss the significance of the mode in the context of these products.\n"
   ]
  },
  {
   "cell_type": "markdown",
   "id": "2d8cfc32",
   "metadata": {},
   "source": [
    "#### Significance of the mode:\n",
    "\n",
    "Both products have multiple modes, indicating that there are several sales values that occur more frequently than others. This suggests that the sales data for both products is not unimodal (having a single peak) and may have multiple peaks or be evenly distributed.\n",
    "\n",
    "In the context of these products, multiple modes could be due to various factors like:\n",
    "\n",
    "Seasonal variations: Certain sales values might be more frequent during specific seasons or months.\n",
    "Promotional activities: Sales might peak during promotional periods, leading to high occurrence of specific values.\n",
    "Product configurations: If different configurations of the same product exist, each might have its own sales pattern, contributing to multiple modes."
   ]
  },
  {
   "cell_type": "code",
   "execution_count": 11,
   "id": "9061a401",
   "metadata": {},
   "outputs": [
    {
     "data": {
      "text/html": [
       "<div>\n",
       "<style scoped>\n",
       "    .dataframe tbody tr th:only-of-type {\n",
       "        vertical-align: middle;\n",
       "    }\n",
       "\n",
       "    .dataframe tbody tr th {\n",
       "        vertical-align: top;\n",
       "    }\n",
       "\n",
       "    .dataframe thead th {\n",
       "        text-align: right;\n",
       "    }\n",
       "</style>\n",
       "<table border=\"1\" class=\"dataframe\">\n",
       "  <thead>\n",
       "    <tr style=\"text-align: right;\">\n",
       "      <th></th>\n",
       "      <th>product A</th>\n",
       "      <th>product B</th>\n",
       "    </tr>\n",
       "  </thead>\n",
       "  <tbody>\n",
       "    <tr>\n",
       "      <th>0</th>\n",
       "      <td>28.0</td>\n",
       "      <td>36</td>\n",
       "    </tr>\n",
       "    <tr>\n",
       "      <th>1</th>\n",
       "      <td>29.0</td>\n",
       "      <td>37</td>\n",
       "    </tr>\n",
       "    <tr>\n",
       "      <th>2</th>\n",
       "      <td>30.0</td>\n",
       "      <td>38</td>\n",
       "    </tr>\n",
       "    <tr>\n",
       "      <th>3</th>\n",
       "      <td>NaN</td>\n",
       "      <td>40</td>\n",
       "    </tr>\n",
       "  </tbody>\n",
       "</table>\n",
       "</div>"
      ],
      "text/plain": [
       "   product A  product B\n",
       "0       28.0         36\n",
       "1       29.0         37\n",
       "2       30.0         38\n",
       "3        NaN         40"
      ]
     },
     "execution_count": 11,
     "metadata": {},
     "output_type": "execute_result"
    }
   ],
   "source": [
    "a.mode()"
   ]
  },
  {
   "cell_type": "markdown",
   "id": "224c8efa",
   "metadata": {},
   "source": [
    "#"
   ]
  },
  {
   "cell_type": "markdown",
   "id": "240e4515",
   "metadata": {},
   "source": [
    "#### 4.Calculate the weighted mean of the sales data, assuming each month has an equal weight. Discuss any implications of using weighted mean in this context.\n"
   ]
  },
  {
   "cell_type": "code",
   "execution_count": 26,
   "id": "c0290a96",
   "metadata": {},
   "outputs": [
    {
     "name": "stdout",
     "output_type": "stream",
     "text": [
      "Weighted mean of product A: 29.0\n",
      "Weighted mean of product B: 38.25\n"
     ]
    }
   ],
   "source": [
    "weighted_mean_productA = a['product A'].sum() / len(a['product A'])\n",
    "weighted_mean_productB = a['product B'].sum() / len(a['product B'])\n",
    "\n",
    "print(f\"Weighted mean of product A: {weighted_mean_productA}\")\n",
    "print(f\"Weighted mean of product B: {weighted_mean_productB}\")\n"
   ]
  },
  {
   "cell_type": "markdown",
   "id": "14db5f6f",
   "metadata": {},
   "source": [
    "#"
   ]
  },
  {
   "cell_type": "markdown",
   "id": "036b5d26",
   "metadata": {},
   "source": [
    "# Measures of Dispersion:\n"
   ]
  },
  {
   "cell_type": "markdown",
   "id": "5daa54fd",
   "metadata": {},
   "source": [
    "#### 1.Compute the range of monthly sales for both Product A and Product B. Discuss how the range provides insights into the variability of sales.\n"
   ]
  },
  {
   "cell_type": "code",
   "execution_count": 46,
   "id": "98989a15",
   "metadata": {},
   "outputs": [
    {
     "name": "stdout",
     "output_type": "stream",
     "text": [
      "range of product A :  8\n",
      "range of product B :  7\n"
     ]
    }
   ],
   "source": [
    "r = a['product A'].max() - a['product A'].min()\n",
    "s = a['product B'].max() - a['product B'].min()\n",
    "print(\"range of product A : \", r)\n",
    "print(\"range of product B : \", s)"
   ]
  },
  {
   "cell_type": "markdown",
   "id": "d79c3558",
   "metadata": {},
   "source": [
    "#### 2.Calculate the variance of the sales data for both products. Discuss what the variance reveals about the spread of sales for each product.\n"
   ]
  },
  {
   "cell_type": "code",
   "execution_count": 47,
   "id": "4029e7da",
   "metadata": {},
   "outputs": [
    {
     "name": "stdout",
     "output_type": "stream",
     "text": [
      "variance of product A :  5.636363636363637\n",
      "variance of product B :  4.75\n"
     ]
    }
   ],
   "source": [
    "r, s =  a['product A'].var(),  a['product B'].var() \n",
    "print(\"variance of product A : \", r)\n",
    "print(\"variance of product B : \", s)"
   ]
  },
  {
   "cell_type": "markdown",
   "id": "211a150a",
   "metadata": {},
   "source": [
    "#### 3.Determine the standard deviation of the sales for Product A and Product B. Discuss the significance of standard deviation in understanding the variability in sales.\n"
   ]
  },
  {
   "cell_type": "code",
   "execution_count": 61,
   "id": "5d44d204",
   "metadata": {},
   "outputs": [
    {
     "name": "stdout",
     "output_type": "stream",
     "text": [
      "S.D of product A :  2.3741027013091993\n",
      "S.D of product B :  2.179449471770337\n"
     ]
    }
   ],
   "source": [
    "stdA = a['product A'].std()\n",
    "stdB = a['product B'].std()\n",
    "print(\"S.D of product A : \", stdA)\n",
    "print(\"S.D of product B : \", stdB)"
   ]
  },
  {
   "cell_type": "markdown",
   "id": "58fa9b43",
   "metadata": {},
   "source": [
    "# Relative Measures of Dispersion:\n"
   ]
  },
  {
   "cell_type": "markdown",
   "id": "e4da09e8",
   "metadata": {},
   "source": [
    "#### 1.Calculate the coefficient of variation for the sales data of Product A. Discuss how this relative measure of dispersion helps in comparing the variability of products with different average sales.\n"
   ]
  },
  {
   "cell_type": "code",
   "execution_count": 64,
   "id": "161f7ec9",
   "metadata": {},
   "outputs": [
    {
     "name": "stdout",
     "output_type": "stream",
     "text": [
      "C.V of product A :  2.3741027013091993\n",
      "C.V of product B :  2.179449471770337\n"
     ]
    }
   ],
   "source": [
    "meanA = a['product A'].mean()\n",
    "stdA = a['product A'].std()\n",
    "cvA = (stdA / meanA) * 100\n",
    "\n",
    "meanB = a['product B'].mean()\n",
    "stdB = a['product B'].std()\n",
    "cvB = (stdA / meanB) * 100\n",
    "\n",
    "print(\"C.V of product A : \", stdA)\n",
    "print(\"C.V of product B : \", stdB)"
   ]
  },
  {
   "cell_type": "markdown",
   "id": "e413be58",
   "metadata": {},
   "source": [
    "#### 2.Compute the relative range for Product B. Discuss how the relative range accounts for the scale of the sales data.\n"
   ]
  },
  {
   "cell_type": "code",
   "execution_count": 73,
   "id": "33dda1db",
   "metadata": {},
   "outputs": [
    {
     "name": "stdout",
     "output_type": "stream",
     "text": [
      "RR of product B: 18.30065359477124\n"
     ]
    }
   ],
   "source": [
    "meanB = a['product B'].mean()\n",
    "rangeB = a['product B'].max() - a['product B'].min()\n",
    "RR = (rangeB / meanB) * 100\n",
    "print(\"RR of product B:\", RR)"
   ]
  },
  {
   "cell_type": "markdown",
   "id": "d6119793",
   "metadata": {},
   "source": [
    "#### 3.Determine the relative standard deviation for Product A. Interpret the result and discuss its implications for understanding the variability relative to the mean.\n"
   ]
  },
  {
   "cell_type": "code",
   "execution_count": 77,
   "id": "211a1279",
   "metadata": {},
   "outputs": [
    {
     "name": "stdout",
     "output_type": "stream",
     "text": [
      "RSD of product A: 8.186561038997239\n"
     ]
    }
   ],
   "source": [
    "rsdA = cvA\n",
    "print(\"RSD of product A:\", rsdA)"
   ]
  },
  {
   "cell_type": "code",
   "execution_count": null,
   "id": "d453728d",
   "metadata": {},
   "outputs": [],
   "source": []
  }
 ],
 "metadata": {
  "kernelspec": {
   "display_name": "Python 3 (ipykernel)",
   "language": "python",
   "name": "python3"
  },
  "language_info": {
   "codemirror_mode": {
    "name": "ipython",
    "version": 3
   },
   "file_extension": ".py",
   "mimetype": "text/x-python",
   "name": "python",
   "nbconvert_exporter": "python",
   "pygments_lexer": "ipython3",
   "version": "3.11.5"
  }
 },
 "nbformat": 4,
 "nbformat_minor": 5
}
