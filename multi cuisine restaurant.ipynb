{
 "cells": [
  {
   "cell_type": "code",
   "execution_count": 2,
   "id": "6b6711a1",
   "metadata": {},
   "outputs": [],
   "source": [
    "import numpy as np\n",
    "import  numpy as genfromtxt"
   ]
  },
  {
   "cell_type": "code",
   "execution_count": 3,
   "id": "d51b3ad2",
   "metadata": {},
   "outputs": [],
   "source": [
    "fpath = r'C:\\Users\\JAGADISH\\Num Py\\tipsf.csv'"
   ]
  },
  {
   "cell_type": "code",
   "execution_count": 4,
   "id": "09af256e",
   "metadata": {},
   "outputs": [],
   "source": [
    "x = np.genfromtxt(fpath,delimiter = ',', skip_header = True)"
   ]
  },
  {
   "cell_type": "markdown",
   "id": "05062fca",
   "metadata": {},
   "source": [
    "* what is total bill value ?"
   ]
  },
  {
   "cell_type": "code",
   "execution_count": 5,
   "id": "55dd30da",
   "metadata": {},
   "outputs": [
    {
     "data": {
      "text/plain": [
       "4827.77"
      ]
     },
     "execution_count": 5,
     "metadata": {},
     "output_type": "execute_result"
    }
   ],
   "source": [
    "totalbill = np.sum(x[:,1])\n",
    "totalbill"
   ]
  },
  {
   "cell_type": "markdown",
   "id": "dc6c4763",
   "metadata": {},
   "source": [
    "* What is total tip value ?"
   ]
  },
  {
   "cell_type": "code",
   "execution_count": 6,
   "id": "6720d85a",
   "metadata": {},
   "outputs": [
    {
     "data": {
      "text/plain": [
       "731.5799999999999"
      ]
     },
     "execution_count": 6,
     "metadata": {},
     "output_type": "execute_result"
    }
   ],
   "source": [
    "tip = np.sum(x[:,2])\n",
    "tip"
   ]
  },
  {
   "cell_type": "markdown",
   "id": "ae302400",
   "metadata": {},
   "source": [
    "* count how many sun,sat,thus,fri,are there ?"
   ]
  },
  {
   "cell_type": "code",
   "execution_count": 7,
   "id": "b0df5803",
   "metadata": {},
   "outputs": [
    {
     "name": "stdout",
     "output_type": "stream",
     "text": [
      "number of 0.0's: 87\n",
      "number of 1.0's: 76\n",
      "number of 2.0's: 62\n",
      "number of 3.0's: 19\n"
     ]
    }
   ],
   "source": [
    "fifth_column = x[:, 5]\n",
    "unique_values, counts = np.unique(fifth_column, return_counts=True)\n",
    "\n",
    "for value, count in zip(unique_values, counts):\n",
    "    print(f\"number of {value}'s: {count}\")"
   ]
  },
  {
   "cell_type": "markdown",
   "id": "aaf418cf",
   "metadata": {},
   "source": [
    "* how many smokers are there ?"
   ]
  },
  {
   "cell_type": "code",
   "execution_count": 8,
   "id": "f4e66501",
   "metadata": {},
   "outputs": [
    {
     "data": {
      "text/plain": [
       "93.0"
      ]
     },
     "execution_count": 8,
     "metadata": {},
     "output_type": "execute_result"
    }
   ],
   "source": [
    "smoker = np.sum(x[:,4])\n",
    "smoker"
   ]
  },
  {
   "cell_type": "markdown",
   "id": "cf508f42",
   "metadata": {},
   "source": [
    "* what is the avg tip given by female and male ?"
   ]
  },
  {
   "cell_type": "code",
   "execution_count": 10,
   "id": "e60d0dc3",
   "metadata": {},
   "outputs": [
    {
     "name": "stdout",
     "output_type": "stream",
     "text": [
      "average tip of male {2.8334482758620685}\n",
      "average tip of female {3.0896178343949043}\n"
     ]
    }
   ],
   "source": [
    "tip_column = x[:, 2]\n",
    "gender_column = x[:, 3]\n",
    "\n",
    "total_tip_male = np.mean(tip_column[gender_column == 0])\n",
    "total_tip_female = np.mean(tip_column[gender_column == 1])\n",
    "print(f'average tip of male',{total_tip_male})\n",
    "print(f'average tip of female',{total_tip_female})"
   ]
  },
  {
   "cell_type": "markdown",
   "id": "358d83be",
   "metadata": {},
   "source": [
    "* how much amount have been spent by female  and male ?"
   ]
  },
  {
   "cell_type": "code",
   "execution_count": 18,
   "id": "aa37381b",
   "metadata": {},
   "outputs": [
    {
     "name": "stdout",
     "output_type": "stream",
     "text": [
      "total bill spent by male {1817.4599999999996}\n",
      "total bill spent by female {3741.89}\n"
     ]
    }
   ],
   "source": [
    "total_bill_column = x[:, 1]\n",
    "gender_column = x[:, 3]\n",
    "tip_column = x[:, 2]\n",
    "total_bill_male = np.sum(total_bill_column[gender_column == 0]) + np.sum(tip_column[gender_column == 0])\n",
    "total_bill_female = np.sum(total_bill_column[gender_column == 1]) + np.sum(tip_column[gender_column == 1])\n",
    "print(f'total bill spent by male',{total_bill_male})\n",
    "print(f'total bill spent by female',{total_bill_female})"
   ]
  },
  {
   "cell_type": "markdown",
   "id": "f0eb11d4",
   "metadata": {},
   "source": [
    "* what is the min and max tip given ?"
   ]
  },
  {
   "cell_type": "code",
   "execution_count": 12,
   "id": "22d35766",
   "metadata": {},
   "outputs": [
    {
     "name": "stdout",
     "output_type": "stream",
     "text": [
      "the min tip given is: 1.0\n",
      "the max tip given is 10.0\n"
     ]
    }
   ],
   "source": [
    "tip_column = x[:, 2]\n",
    "min_tip = np.min(tip_column)\n",
    "max_tip = np.max(tip_column)\n",
    "print(f\"the min tip given is:\",min_tip)\n",
    "print(f\"the max tip given is\",max_tip)"
   ]
  },
  {
   "cell_type": "markdown",
   "id": "406f3a41",
   "metadata": {},
   "source": [
    "* how many male and female are going for dinner and lunch ?"
   ]
  },
  {
   "cell_type": "code",
   "execution_count": 13,
   "id": "b8ec16d0",
   "metadata": {},
   "outputs": [
    {
     "name": "stdout",
     "output_type": "stream",
     "text": [
      "No of males going for lunch: 35\n",
      "No of females going for lunch: 33\n",
      "No of males going for dinner: 52\n",
      "No of females going for dinner: 124\n"
     ]
    }
   ],
   "source": [
    "gender_column = x[:, 3]\n",
    "time_column = x[:, 6]\n",
    "\n",
    "male_lunch_count = np.sum((gender_column == 0) & (time_column == 1))\n",
    "female_lunch_count = np.sum((gender_column == 1) & (time_column == 1))\n",
    "\n",
    "male_dinner_count = np.sum((gender_column == 0) & (time_column == 0))\n",
    "female_dinner_count = np.sum((gender_column == 1) & (time_column == 0))\n",
    "\n",
    "print(\"No of males going for lunch:\", male_lunch_count)\n",
    "print(\"No of females going for lunch:\", female_lunch_count)\n",
    "print(\"No of males going for dinner:\", male_dinner_count)\n",
    "print(\"No of females going for dinner:\", female_dinner_count)"
   ]
  },
  {
   "cell_type": "markdown",
   "id": "768f7f18",
   "metadata": {},
   "source": [
    "* find out the avg size ?"
   ]
  },
  {
   "cell_type": "code",
   "execution_count": 14,
   "id": "dc9e91e2",
   "metadata": {},
   "outputs": [
    {
     "name": "stdout",
     "output_type": "stream",
     "text": [
      "avg size is: {2.569672131147541}\n"
     ]
    }
   ],
   "source": [
    "size_column = x[:, 7]\n",
    "avg_size = np.mean(size_column)\n",
    "print(f\"avg size is:\",{avg_size})"
   ]
  },
  {
   "cell_type": "markdown",
   "id": "1c933d84",
   "metadata": {},
   "source": [
    "* How many female smokers are there and male smokers are there ?"
   ]
  },
  {
   "cell_type": "code",
   "execution_count": 15,
   "id": "db20628a",
   "metadata": {},
   "outputs": [
    {
     "name": "stdout",
     "output_type": "stream",
     "text": [
      "no of male smokers: 33\n",
      "no of female smokers: 60\n"
     ]
    }
   ],
   "source": [
    "gender_column = x[:, 3]\n",
    "smoker_column = x[:,4]\n",
    "male_smokers_count = np.sum((gender_column == 0) & (smoker_column == 1))\n",
    "female_smokers_count = np.sum((gender_column == 1) & (smoker_column == 1))\n",
    "print(f\"no of male smokers:\",male_smokers_count)\n",
    "print(f\"no of female smokers:\",female_smokers_count)"
   ]
  },
  {
   "cell_type": "code",
   "execution_count": null,
   "id": "773bef59",
   "metadata": {},
   "outputs": [],
   "source": []
  }
 ],
 "metadata": {
  "kernelspec": {
   "display_name": "Python 3 (ipykernel)",
   "language": "python",
   "name": "python3"
  },
  "language_info": {
   "codemirror_mode": {
    "name": "ipython",
    "version": 3
   },
   "file_extension": ".py",
   "mimetype": "text/x-python",
   "name": "python",
   "nbconvert_exporter": "python",
   "pygments_lexer": "ipython3",
   "version": "3.11.5"
  }
 },
 "nbformat": 4,
 "nbformat_minor": 5
}
