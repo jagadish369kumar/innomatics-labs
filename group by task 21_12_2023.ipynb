{
 "cells": [
  {
   "cell_type": "code",
   "execution_count": 40,
   "id": "ab2568af",
   "metadata": {},
   "outputs": [],
   "source": [
    "import pandas as pd,numpy as np"
   ]
  },
  {
   "cell_type": "code",
   "execution_count": 41,
   "id": "3eea3d9f",
   "metadata": {},
   "outputs": [
    {
     "data": {
      "text/html": [
       "<div>\n",
       "<style scoped>\n",
       "    .dataframe tbody tr th:only-of-type {\n",
       "        vertical-align: middle;\n",
       "    }\n",
       "\n",
       "    .dataframe tbody tr th {\n",
       "        vertical-align: top;\n",
       "    }\n",
       "\n",
       "    .dataframe thead th {\n",
       "        text-align: right;\n",
       "    }\n",
       "</style>\n",
       "<table border=\"1\" class=\"dataframe\">\n",
       "  <thead>\n",
       "    <tr style=\"text-align: right;\">\n",
       "      <th></th>\n",
       "      <th>Unnamed: 0</th>\n",
       "      <th>Date</th>\n",
       "      <th>Product</th>\n",
       "      <th>Revenue</th>\n",
       "      <th>Quantity</th>\n",
       "      <th>Year</th>\n",
       "      <th>Month</th>\n",
       "      <th>Total_Product_Revenue</th>\n",
       "      <th>Revenue Percentage</th>\n",
       "    </tr>\n",
       "  </thead>\n",
       "  <tbody>\n",
       "    <tr>\n",
       "      <th>0</th>\n",
       "      <td>0</td>\n",
       "      <td>2023-01-01</td>\n",
       "      <td>A</td>\n",
       "      <td>221</td>\n",
       "      <td>3</td>\n",
       "      <td>2023</td>\n",
       "      <td>1</td>\n",
       "      <td>774</td>\n",
       "      <td>28.552972</td>\n",
       "    </tr>\n",
       "    <tr>\n",
       "      <th>1</th>\n",
       "      <td>1</td>\n",
       "      <td>2023-01-01</td>\n",
       "      <td>B</td>\n",
       "      <td>111</td>\n",
       "      <td>8</td>\n",
       "      <td>2023</td>\n",
       "      <td>1</td>\n",
       "      <td>892</td>\n",
       "      <td>12.443946</td>\n",
       "    </tr>\n",
       "    <tr>\n",
       "      <th>2</th>\n",
       "      <td>2</td>\n",
       "      <td>2023-01-02</td>\n",
       "      <td>B</td>\n",
       "      <td>171</td>\n",
       "      <td>11</td>\n",
       "      <td>2023</td>\n",
       "      <td>1</td>\n",
       "      <td>892</td>\n",
       "      <td>19.170404</td>\n",
       "    </tr>\n",
       "    <tr>\n",
       "      <th>3</th>\n",
       "      <td>3</td>\n",
       "      <td>2023-01-02</td>\n",
       "      <td>A</td>\n",
       "      <td>141</td>\n",
       "      <td>15</td>\n",
       "      <td>2023</td>\n",
       "      <td>1</td>\n",
       "      <td>774</td>\n",
       "      <td>18.217054</td>\n",
       "    </tr>\n",
       "    <tr>\n",
       "      <th>4</th>\n",
       "      <td>4</td>\n",
       "      <td>2023-02-01</td>\n",
       "      <td>A</td>\n",
       "      <td>75</td>\n",
       "      <td>4</td>\n",
       "      <td>2023</td>\n",
       "      <td>2</td>\n",
       "      <td>774</td>\n",
       "      <td>9.689922</td>\n",
       "    </tr>\n",
       "    <tr>\n",
       "      <th>5</th>\n",
       "      <td>5</td>\n",
       "      <td>2023-02-01</td>\n",
       "      <td>B</td>\n",
       "      <td>90</td>\n",
       "      <td>12</td>\n",
       "      <td>2023</td>\n",
       "      <td>2</td>\n",
       "      <td>892</td>\n",
       "      <td>10.089686</td>\n",
       "    </tr>\n",
       "    <tr>\n",
       "      <th>6</th>\n",
       "      <td>6</td>\n",
       "      <td>2023-02-02</td>\n",
       "      <td>A</td>\n",
       "      <td>96</td>\n",
       "      <td>17</td>\n",
       "      <td>2023</td>\n",
       "      <td>2</td>\n",
       "      <td>774</td>\n",
       "      <td>12.403101</td>\n",
       "    </tr>\n",
       "    <tr>\n",
       "      <th>7</th>\n",
       "      <td>7</td>\n",
       "      <td>2023-02-02</td>\n",
       "      <td>B</td>\n",
       "      <td>170</td>\n",
       "      <td>10</td>\n",
       "      <td>2023</td>\n",
       "      <td>2</td>\n",
       "      <td>892</td>\n",
       "      <td>19.058296</td>\n",
       "    </tr>\n",
       "    <tr>\n",
       "      <th>8</th>\n",
       "      <td>8</td>\n",
       "      <td>2023-03-01</td>\n",
       "      <td>B</td>\n",
       "      <td>200</td>\n",
       "      <td>19</td>\n",
       "      <td>2023</td>\n",
       "      <td>3</td>\n",
       "      <td>892</td>\n",
       "      <td>22.421525</td>\n",
       "    </tr>\n",
       "    <tr>\n",
       "      <th>9</th>\n",
       "      <td>9</td>\n",
       "      <td>2023-03-01</td>\n",
       "      <td>A</td>\n",
       "      <td>120</td>\n",
       "      <td>10</td>\n",
       "      <td>2023</td>\n",
       "      <td>3</td>\n",
       "      <td>774</td>\n",
       "      <td>15.503876</td>\n",
       "    </tr>\n",
       "    <tr>\n",
       "      <th>10</th>\n",
       "      <td>10</td>\n",
       "      <td>2023-03-02</td>\n",
       "      <td>A</td>\n",
       "      <td>121</td>\n",
       "      <td>12</td>\n",
       "      <td>2023</td>\n",
       "      <td>3</td>\n",
       "      <td>774</td>\n",
       "      <td>15.633075</td>\n",
       "    </tr>\n",
       "    <tr>\n",
       "      <th>11</th>\n",
       "      <td>11</td>\n",
       "      <td>2023-03-02</td>\n",
       "      <td>B</td>\n",
       "      <td>150</td>\n",
       "      <td>5</td>\n",
       "      <td>2023</td>\n",
       "      <td>3</td>\n",
       "      <td>892</td>\n",
       "      <td>16.816143</td>\n",
       "    </tr>\n",
       "  </tbody>\n",
       "</table>\n",
       "</div>"
      ],
      "text/plain": [
       "    Unnamed: 0        Date Product  Revenue  Quantity  Year  Month  \\\n",
       "0            0  2023-01-01       A      221         3  2023      1   \n",
       "1            1  2023-01-01       B      111         8  2023      1   \n",
       "2            2  2023-01-02       B      171        11  2023      1   \n",
       "3            3  2023-01-02       A      141        15  2023      1   \n",
       "4            4  2023-02-01       A       75         4  2023      2   \n",
       "5            5  2023-02-01       B       90        12  2023      2   \n",
       "6            6  2023-02-02       A       96        17  2023      2   \n",
       "7            7  2023-02-02       B      170        10  2023      2   \n",
       "8            8  2023-03-01       B      200        19  2023      3   \n",
       "9            9  2023-03-01       A      120        10  2023      3   \n",
       "10          10  2023-03-02       A      121        12  2023      3   \n",
       "11          11  2023-03-02       B      150         5  2023      3   \n",
       "\n",
       "    Total_Product_Revenue  Revenue Percentage  \n",
       "0                     774           28.552972  \n",
       "1                     892           12.443946  \n",
       "2                     892           19.170404  \n",
       "3                     774           18.217054  \n",
       "4                     774            9.689922  \n",
       "5                     892           10.089686  \n",
       "6                     774           12.403101  \n",
       "7                     892           19.058296  \n",
       "8                     892           22.421525  \n",
       "9                     774           15.503876  \n",
       "10                    774           15.633075  \n",
       "11                    892           16.816143  "
      ]
     },
     "execution_count": 41,
     "metadata": {},
     "output_type": "execute_result"
    }
   ],
   "source": [
    "df = pd.read_csv(r\"C:\\Users\\JAGADISH\\Num Py\\groupbyExcercise.csv\")\n",
    "df"
   ]
  },
  {
   "cell_type": "markdown",
   "id": "561e0232",
   "metadata": {},
   "source": [
    "#### 1.Arrange DataFrame df, focusing on distinct product categories. Explore the data to reveal:\n",
    "#### Overall revenue insights\n"
   ]
  },
  {
   "cell_type": "code",
   "execution_count": 42,
   "id": "7fc44689",
   "metadata": {},
   "outputs": [
    {
     "name": "stdout",
     "output_type": "stream",
     "text": [
      "Overall Revenue:\n",
      "Product\n",
      "A    774\n",
      "B    892\n",
      "Name: Revenue, dtype: int64\n",
      "Total Revenue: 1666\n"
     ]
    }
   ],
   "source": [
    "overall_revenue = df.groupby('Product')['Revenue'].sum()\n",
    "print(f\"Overall Revenue:\")\n",
    "print(overall_revenue)\n",
    "total_revenue = df['Revenue'].sum()\n",
    "print(f\"Total Revenue: {total_revenue}\")"
   ]
  },
  {
   "cell_type": "markdown",
   "id": "40f63557",
   "metadata": {},
   "source": [
    "#### Average revenue patterns"
   ]
  },
  {
   "cell_type": "code",
   "execution_count": 43,
   "id": "85e123cc",
   "metadata": {},
   "outputs": [
    {
     "name": "stdout",
     "output_type": "stream",
     "text": [
      "Average Revenue: Product\n",
      "A    129.000000\n",
      "B    148.666667\n",
      "Name: Revenue, dtype: float64\n"
     ]
    }
   ],
   "source": [
    "average_revenue = df.groupby('Product')['Revenue'].mean()\n",
    "print(f\"Average Revenue:\" ,(average_revenue))"
   ]
  },
  {
   "cell_type": "markdown",
   "id": "778d8c7d",
   "metadata": {},
   "source": [
    "#### Peak quantity sold observations"
   ]
  },
  {
   "cell_type": "code",
   "execution_count": 44,
   "id": "ef4bfda2",
   "metadata": {},
   "outputs": [
    {
     "name": "stdout",
     "output_type": "stream",
     "text": [
      "Peak Quantity Sold: Product\n",
      "A    17\n",
      "B    19\n",
      "Name: Quantity, dtype: int64\n"
     ]
    }
   ],
   "source": [
    "peak_quantity = df.groupby('Product')['Quantity'].max()\n",
    "print(f\"Peak Quantity Sold:\" ,(peak_quantity))"
   ]
  },
  {
   "cell_type": "markdown",
   "id": "772f8333",
   "metadata": {},
   "source": [
    "#### Minimum quantity sold occurrences"
   ]
  },
  {
   "cell_type": "code",
   "execution_count": 45,
   "id": "0ad63b36",
   "metadata": {},
   "outputs": [
    {
     "name": "stdout",
     "output_type": "stream",
     "text": [
      "Minimum Quantity Sold: Product\n",
      "A    3\n",
      "B    5\n",
      "Name: Quantity, dtype: int64\n"
     ]
    }
   ],
   "source": [
    "min_quantity = df.groupby(['Product'])['Quantity'].min()\n",
    "print(f\"Minimum Quantity Sold:\" ,(min_quantity))"
   ]
  },
  {
   "cell_type": "markdown",
   "id": "ec3583c4",
   "metadata": {},
   "source": [
    "#### 2.Aggregate DataFrame df by extracting the month and year from the 'Date' column. Calculate the collective revenue for each unique combination of month and year."
   ]
  },
  {
   "cell_type": "code",
   "execution_count": 46,
   "id": "91918004",
   "metadata": {},
   "outputs": [
    {
     "data": {
      "text/html": [
       "<div>\n",
       "<style scoped>\n",
       "    .dataframe tbody tr th:only-of-type {\n",
       "        vertical-align: middle;\n",
       "    }\n",
       "\n",
       "    .dataframe tbody tr th {\n",
       "        vertical-align: top;\n",
       "    }\n",
       "\n",
       "    .dataframe thead th {\n",
       "        text-align: right;\n",
       "    }\n",
       "</style>\n",
       "<table border=\"1\" class=\"dataframe\">\n",
       "  <thead>\n",
       "    <tr style=\"text-align: right;\">\n",
       "      <th></th>\n",
       "      <th>Year</th>\n",
       "      <th>Month</th>\n",
       "      <th>Revenue</th>\n",
       "    </tr>\n",
       "  </thead>\n",
       "  <tbody>\n",
       "    <tr>\n",
       "      <th>0</th>\n",
       "      <td>2023</td>\n",
       "      <td>1</td>\n",
       "      <td>644</td>\n",
       "    </tr>\n",
       "    <tr>\n",
       "      <th>1</th>\n",
       "      <td>2023</td>\n",
       "      <td>2</td>\n",
       "      <td>431</td>\n",
       "    </tr>\n",
       "    <tr>\n",
       "      <th>2</th>\n",
       "      <td>2023</td>\n",
       "      <td>3</td>\n",
       "      <td>591</td>\n",
       "    </tr>\n",
       "  </tbody>\n",
       "</table>\n",
       "</div>"
      ],
      "text/plain": [
       "   Year  Month  Revenue\n",
       "0  2023      1      644\n",
       "1  2023      2      431\n",
       "2  2023      3      591"
      ]
     },
     "execution_count": 46,
     "metadata": {},
     "output_type": "execute_result"
    }
   ],
   "source": [
    " df.groupby(['Year', 'Month',])['Revenue'].sum().reset_index()"
   ]
  },
  {
   "cell_type": "markdown",
   "id": "8b69b861",
   "metadata": {},
   "source": [
    "#### 3. Group the DataFrame df by the 'Date' column and find the date with the highest total revenue and the date with the highest total quantity sold."
   ]
  },
  {
   "cell_type": "code",
   "execution_count": 47,
   "id": "8c79a402",
   "metadata": {},
   "outputs": [
    {
     "data": {
      "text/html": [
       "<div>\n",
       "<style scoped>\n",
       "    .dataframe tbody tr th:only-of-type {\n",
       "        vertical-align: middle;\n",
       "    }\n",
       "\n",
       "    .dataframe tbody tr th {\n",
       "        vertical-align: top;\n",
       "    }\n",
       "\n",
       "    .dataframe thead th {\n",
       "        text-align: right;\n",
       "    }\n",
       "</style>\n",
       "<table border=\"1\" class=\"dataframe\">\n",
       "  <thead>\n",
       "    <tr style=\"text-align: right;\">\n",
       "      <th></th>\n",
       "      <th>Revenue</th>\n",
       "      <th>Quantity</th>\n",
       "    </tr>\n",
       "    <tr>\n",
       "      <th>Date</th>\n",
       "      <th></th>\n",
       "      <th></th>\n",
       "    </tr>\n",
       "  </thead>\n",
       "  <tbody>\n",
       "    <tr>\n",
       "      <th>2023-01-01</th>\n",
       "      <td>332</td>\n",
       "      <td>11</td>\n",
       "    </tr>\n",
       "    <tr>\n",
       "      <th>2023-01-02</th>\n",
       "      <td>312</td>\n",
       "      <td>26</td>\n",
       "    </tr>\n",
       "    <tr>\n",
       "      <th>2023-02-01</th>\n",
       "      <td>165</td>\n",
       "      <td>16</td>\n",
       "    </tr>\n",
       "    <tr>\n",
       "      <th>2023-02-02</th>\n",
       "      <td>266</td>\n",
       "      <td>27</td>\n",
       "    </tr>\n",
       "    <tr>\n",
       "      <th>2023-03-01</th>\n",
       "      <td>320</td>\n",
       "      <td>29</td>\n",
       "    </tr>\n",
       "    <tr>\n",
       "      <th>2023-03-02</th>\n",
       "      <td>271</td>\n",
       "      <td>17</td>\n",
       "    </tr>\n",
       "  </tbody>\n",
       "</table>\n",
       "</div>"
      ],
      "text/plain": [
       "            Revenue  Quantity\n",
       "Date                         \n",
       "2023-01-01      332        11\n",
       "2023-01-02      312        26\n",
       "2023-02-01      165        16\n",
       "2023-02-02      266        27\n",
       "2023-03-01      320        29\n",
       "2023-03-02      271        17"
      ]
     },
     "execution_count": 47,
     "metadata": {},
     "output_type": "execute_result"
    }
   ],
   "source": [
    "data = df.groupby(['Date'])[['Revenue','Quantity']].sum()\n",
    "data"
   ]
  },
  {
   "cell_type": "code",
   "execution_count": 48,
   "id": "33aa7cb9",
   "metadata": {},
   "outputs": [
    {
     "name": "stdout",
     "output_type": "stream",
     "text": [
      "Date with Highest revenue  is :  2023-01-01\n"
     ]
    }
   ],
   "source": [
    "max_revenue_date =data['Revenue'].idxmax()\n",
    "max_revenue_date\n",
    "print('Date with Highest revenue  is : ', max_revenue_date)"
   ]
  },
  {
   "cell_type": "code",
   "execution_count": 49,
   "id": "4bbf4837",
   "metadata": {},
   "outputs": [
    {
     "name": "stdout",
     "output_type": "stream",
     "text": [
      "Date with Highest quantity sold is :  2023-03-01\n"
     ]
    }
   ],
   "source": [
    "max_quantity_date = data['Quantity'].idxmax()\n",
    "print('Date with Highest quantity sold is : ', max_quantity_date)"
   ]
  },
  {
   "cell_type": "markdown",
   "id": "afe3dc77",
   "metadata": {},
   "source": [
    "#### 4. Group the DataFrame df by the Date and find products that have a total quantity sold greater than 10 and less than 15 ."
   ]
  },
  {
   "cell_type": "code",
   "execution_count": 50,
   "id": "350a8e28",
   "metadata": {},
   "outputs": [],
   "source": [
    "x = df.groupby(['Date', 'Product'])['Quantity'].sum()"
   ]
  },
  {
   "cell_type": "code",
   "execution_count": 51,
   "id": "a0415e09",
   "metadata": {},
   "outputs": [],
   "source": [
    "y = x[(x > 10) & (x < 15)]"
   ]
  },
  {
   "cell_type": "code",
   "execution_count": 52,
   "id": "c00b2101",
   "metadata": {},
   "outputs": [
    {
     "data": {
      "text/plain": [
       "Date        Product\n",
       "2023-01-02  B          11\n",
       "2023-02-01  B          12\n",
       "2023-03-02  A          12\n",
       "Name: Quantity, dtype: int64"
      ]
     },
     "execution_count": 52,
     "metadata": {},
     "output_type": "execute_result"
    }
   ],
   "source": [
    "y"
   ]
  },
  {
   "cell_type": "markdown",
   "id": "6404a31b",
   "metadata": {},
   "source": [
    "#### 5. Group the DataFrame df by the 'Product' column andadd a new column 'Revenue Percentage' that shows the percentage of each product's revenue relative to the total revenue for that product."
   ]
  },
  {
   "cell_type": "code",
   "execution_count": 53,
   "id": "0fece310",
   "metadata": {},
   "outputs": [],
   "source": [
    "x = df.groupby('Product')['Revenue'].sum()"
   ]
  },
  {
   "cell_type": "code",
   "execution_count": 54,
   "id": "423f6bf6",
   "metadata": {},
   "outputs": [],
   "source": [
    "percentage = x / x.sum() * 100"
   ]
  },
  {
   "cell_type": "code",
   "execution_count": 55,
   "id": "52eee35b",
   "metadata": {},
   "outputs": [
    {
     "name": "stdout",
     "output_type": "stream",
     "text": [
      "    Unnamed: 0        Date Product  Revenue  Quantity  Year  Month  \\\n",
      "0            0  2023-01-01       A      221         3  2023      1   \n",
      "1            1  2023-01-01       B      111         8  2023      1   \n",
      "2            2  2023-01-02       B      171        11  2023      1   \n",
      "3            3  2023-01-02       A      141        15  2023      1   \n",
      "4            4  2023-02-01       A       75         4  2023      2   \n",
      "5            5  2023-02-01       B       90        12  2023      2   \n",
      "6            6  2023-02-02       A       96        17  2023      2   \n",
      "7            7  2023-02-02       B      170        10  2023      2   \n",
      "8            8  2023-03-01       B      200        19  2023      3   \n",
      "9            9  2023-03-01       A      120        10  2023      3   \n",
      "10          10  2023-03-02       A      121        12  2023      3   \n",
      "11          11  2023-03-02       B      150         5  2023      3   \n",
      "\n",
      "    Total_Product_Revenue  Revenue Percentage  \n",
      "0                     774           46.458583  \n",
      "1                     892           53.541417  \n",
      "2                     892           53.541417  \n",
      "3                     774           46.458583  \n",
      "4                     774           46.458583  \n",
      "5                     892           53.541417  \n",
      "6                     774           46.458583  \n",
      "7                     892           53.541417  \n",
      "8                     892           53.541417  \n",
      "9                     774           46.458583  \n",
      "10                    774           46.458583  \n",
      "11                    892           53.541417  \n"
     ]
    }
   ],
   "source": [
    "df['Revenue Percentage'] = df['Product'].map(percentage)\n",
    "print(df)"
   ]
  },
  {
   "cell_type": "code",
   "execution_count": null,
   "id": "0c30531c",
   "metadata": {},
   "outputs": [],
   "source": []
  },
  {
   "cell_type": "code",
   "execution_count": null,
   "id": "a9bc4e59",
   "metadata": {},
   "outputs": [],
   "source": []
  }
 ],
 "metadata": {
  "kernelspec": {
   "display_name": "Python 3 (ipykernel)",
   "language": "python",
   "name": "python3"
  },
  "language_info": {
   "codemirror_mode": {
    "name": "ipython",
    "version": 3
   },
   "file_extension": ".py",
   "mimetype": "text/x-python",
   "name": "python",
   "nbconvert_exporter": "python",
   "pygments_lexer": "ipython3",
   "version": "3.11.5"
  }
 },
 "nbformat": 4,
 "nbformat_minor": 5
}
