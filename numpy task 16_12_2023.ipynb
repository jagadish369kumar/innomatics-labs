{
 "cells": [
  {
   "cell_type": "markdown",
   "id": "848d103a",
   "metadata": {},
   "source": [
    "# Problem-Solving with NumPy\n"
   ]
  },
  {
   "cell_type": "markdown",
   "id": "35b787c7",
   "metadata": {},
   "source": [
    "#### 1. Write a function, foo_1, that takes a NumPy array `arr` and returns the indices of the elements that are closest to a given target. If target is not in the given array, it should return ‘no item found’\n",
    "\n"
   ]
  },
  {
   "cell_type": "code",
   "execution_count": 15,
   "id": "3970dc34",
   "metadata": {},
   "outputs": [],
   "source": [
    "import numpy as np\n",
    "\n",
    "def foo_1(arr, target):\n",
    " \n",
    "    sorted_arr= np.argsort(np.abs(arr - target))\n",
    "    \n",
    "    if target not in arr:\n",
    "        return \"no item found\"\n",
    "\n",
    "    return sorted_arr                                    "
   ]
  },
  {
   "cell_type": "code",
   "execution_count": null,
   "id": "4bcf690f",
   "metadata": {},
   "outputs": [],
   "source": []
  },
  {
   "cell_type": "code",
   "execution_count": 16,
   "id": "59b4513b",
   "metadata": {},
   "outputs": [
    {
     "name": "stdout",
     "output_type": "stream",
     "text": [
      "[2 3 4 5 6 8 1 7 9 0]\n"
     ]
    }
   ],
   "source": [
    "arr = np.array([3, 8, 7, 7, 7, 7, 7, 8, 7, 10])\n",
    "target = 7\n",
    "result = foo_1(arr, target)\n",
    "print(result)  "
   ]
  },
  {
   "cell_type": "code",
   "execution_count": null,
   "id": "854732af",
   "metadata": {},
   "outputs": [],
   "source": []
  },
  {
   "cell_type": "code",
   "execution_count": 17,
   "id": "7653f009",
   "metadata": {},
   "outputs": [
    {
     "name": "stdout",
     "output_type": "stream",
     "text": [
      "no item found\n"
     ]
    }
   ],
   "source": [
    "target = 11\n",
    "result = foo_1(arr, target)\n",
    "print(result)                                         "
   ]
  },
  {
   "cell_type": "code",
   "execution_count": null,
   "id": "9567f045",
   "metadata": {},
   "outputs": [],
   "source": []
  },
  {
   "cell_type": "code",
   "execution_count": null,
   "id": "55b1b3a5",
   "metadata": {},
   "outputs": [],
   "source": []
  },
  {
   "cell_type": "markdown",
   "id": "e91b6583",
   "metadata": {},
   "source": [
    "#### 2. Write a user defined function foo_2 that takes a 1 or 2 dim NumPy array arr and returns a new n-1 dim array, where each element is replaced by the count of non-zero elements wrt axis."
   ]
  },
  {
   "cell_type": "code",
   "execution_count": 3,
   "id": "b783c374",
   "metadata": {},
   "outputs": [
    {
     "name": "stdout",
     "output_type": "stream",
     "text": [
      "[2 2 2 1]\n"
     ]
    }
   ],
   "source": [
    "import numpy as np\n",
    "\n",
    "def foo_2(arr, axis=0):\n",
    " \n",
    "  if arr.ndim not in [2, 3]:\n",
    "    raise ValueError(\"Input array must be 2 or 3 dimensional.\")\n",
    "\n",
    "  \n",
    "  return np.count_nonzero(arr, axis=axis)\n",
    "\n",
    "arr = np.array([[1, 2, 3, 4],\n",
    "                [0, 5, 0, 0],\n",
    "                [2, 0, 1, 0]])\n",
    "s = foo_2(arr, axis = 0)\n",
    "print(s)"
   ]
  },
  {
   "cell_type": "code",
   "execution_count": 4,
   "id": "1d3e0367",
   "metadata": {},
   "outputs": [
    {
     "name": "stdout",
     "output_type": "stream",
     "text": [
      "[4 1 2]\n"
     ]
    }
   ],
   "source": [
    "s = foo_2(arr, axis = 1)\n",
    "print(s)"
   ]
  },
  {
   "cell_type": "code",
   "execution_count": 5,
   "id": "9c1f3daa",
   "metadata": {},
   "outputs": [],
   "source": [
    "def foo_3(arr, axis=0):\n",
    " \n",
    "  if arr.ndim not in [2, 3]:\n",
    "    raise ValueError(\"Input array must be 2 or 3 dimensional.\")\n",
    "\n",
    "  \n",
    "  return np.count_nonzero(arr, axis=axis)\n"
   ]
  },
  {
   "cell_type": "code",
   "execution_count": 6,
   "id": "f996b8ca",
   "metadata": {},
   "outputs": [
    {
     "name": "stdout",
     "output_type": "stream",
     "text": [
      "[[2 1 2 1]\n",
      " [0 2 0 0]\n",
      " [2 1 2 1]]\n"
     ]
    }
   ],
   "source": [
    "arr = np.array([[[1, 2, 3, 4],[0, 5, 0, 0],[2, 0, 1, 0]],\n",
    "                [[2, 0, 1, 0],[0, 5, 0, 0],[1, 2, 3, 4]]])\n",
    "s = foo_3(arr,axis = 0)\n",
    "print(s)"
   ]
  },
  {
   "cell_type": "code",
   "execution_count": 7,
   "id": "0695f8dc",
   "metadata": {},
   "outputs": [
    {
     "name": "stdout",
     "output_type": "stream",
     "text": [
      "[[2 2 2 1]\n",
      " [2 2 2 1]]\n"
     ]
    }
   ],
   "source": [
    "s = foo_3(arr,axis = 1)\n",
    "print(s)"
   ]
  },
  {
   "cell_type": "code",
   "execution_count": 8,
   "id": "3206e2c2",
   "metadata": {},
   "outputs": [
    {
     "name": "stdout",
     "output_type": "stream",
     "text": [
      "[[4 1 2]\n",
      " [2 1 4]]\n"
     ]
    }
   ],
   "source": [
    "s = foo_3(arr,axis = 2)\n",
    "print(s)"
   ]
  },
  {
   "cell_type": "code",
   "execution_count": null,
   "id": "e4bdcd4e",
   "metadata": {},
   "outputs": [],
   "source": []
  },
  {
   "cell_type": "code",
   "execution_count": null,
   "id": "d9ea3a16",
   "metadata": {},
   "outputs": [],
   "source": []
  },
  {
   "cell_type": "markdown",
   "id": "68121a52",
   "metadata": {},
   "source": [
    "#### 3.1 You are given a 2D NumPy array of data representing student scores. Each row represents a student, and each column represents a subject. Extract the scores of all students who scored above 90 in at least one subject. Provide the resulting array."
   ]
  },
  {
   "cell_type": "code",
   "execution_count": 19,
   "id": "f6d3a49e",
   "metadata": {},
   "outputs": [
    {
     "data": {
      "text/plain": [
       "array([[78, 89, 94],\n",
       "       [91, 87, 90],\n",
       "       [87, 95, 84]])"
      ]
     },
     "execution_count": 19,
     "metadata": {},
     "output_type": "execute_result"
    }
   ],
   "source": [
    "import numpy as np\n",
    "\n",
    "data = np.array([[85,89,88],\n",
    "                [78,89,94],\n",
    "                [91,87,90],\n",
    "                [87,95,84]])\n",
    "\n",
    "students_above_90 = np.any(data > 90, axis=1)\n",
    "\n",
    "data[students_above_90]\n"
   ]
  },
  {
   "cell_type": "code",
   "execution_count": null,
   "id": "a40df099",
   "metadata": {},
   "outputs": [],
   "source": []
  },
  {
   "cell_type": "markdown",
   "id": "9dffb19f",
   "metadata": {},
   "source": [
    "#### 3.2 You are provided with a 2D NumPy array of data representing sales data for different products. Each row corresponds to a product, and each column represents the monthly sales for a specific month. Calculate the following statistics for each product: mean, median, standard deviation, and the month with the highest sales."
   ]
  },
  {
   "cell_type": "code",
   "execution_count": 23,
   "id": "6fdd2f2a",
   "metadata": {
    "scrolled": true
   },
   "outputs": [
    {
     "name": "stdout",
     "output_type": "stream",
     "text": [
      "Product 1:\n",
      "\tMean: 127.50\n",
      "\tMedian: 125.00\n",
      "\tStd. Dev.: 14.79\n",
      "\tHighest Month: 1.00\n",
      "Product 2:\n",
      "\tMean: 212.50\n",
      "\tMedian: 210.00\n",
      "\tStd. Dev.: 25.86\n",
      "\tHighest Month: 3.00\n",
      "Product 3:\n",
      "\tMean: 98.75\n",
      "\tMedian: 97.50\n",
      "\tStd. Dev.: 7.40\n",
      "\tHighest Month: 3.00\n",
      "Product 4:\n",
      "\tMean: 310.00\n",
      "\tMedian: 310.00\n",
      "\tStd. Dev.: 22.36\n",
      "\tHighest Month: 3.00\n"
     ]
    }
   ],
   "source": [
    "import numpy as np\n",
    "\n",
    "data = np.array([[120, 150, 130, 110],\n",
    "                [200, 180, 220, 250],\n",
    "                [90, 100, 95, 110],\n",
    "                [300, 280, 320, 340]])\n",
    "\n",
    "stats = np.vstack([np.mean(data, axis=1), np.median(data, axis=1), np.std(data, axis=1), np.argmax(data, axis=1)])\n",
    "\n",
    "labels = [\"Mean\", \"Median\", \"Std. Dev.\", \"Highest Month\"]\n",
    "\n",
    "for i, product in enumerate(data):\n",
    "    print(f\"Product {i+1}:\")\n",
    "    for stat, label in zip(stats[:, i], labels):\n",
    "        print(f\"\\t{label}: {stat:.2f}\")"
   ]
  },
  {
   "cell_type": "code",
   "execution_count": null,
   "id": "d968ec9a",
   "metadata": {},
   "outputs": [],
   "source": []
  },
  {
   "cell_type": "markdown",
   "id": "0e5269d8",
   "metadata": {},
   "source": [
    "#### 3.3 Create a NumPy array of size 1000 with random integers between 1 and 100. Then, use NumPy functions to find the top 10 most frequently occurring values in the array.\n"
   ]
  },
  {
   "cell_type": "code",
   "execution_count": 22,
   "id": "62febe5a",
   "metadata": {},
   "outputs": [
    {
     "name": "stdout",
     "output_type": "stream",
     "text": [
      "Top 10 most frequent values in the array:\n",
      "\t- 73: 20 occurrences\n",
      "\t- 70: 17 occurrences\n",
      "\t- 32: 16 occurrences\n",
      "\t- 49: 15 occurrences\n",
      "\t- 99: 15 occurrences\n",
      "\t- 94: 15 occurrences\n",
      "\t- 78: 15 occurrences\n",
      "\t- 64: 15 occurrences\n",
      "\t- 95: 14 occurrences\n",
      "\t- 5: 14 occurrences\n"
     ]
    }
   ],
   "source": [
    "import numpy as np\n",
    "from collections import Counter\n",
    "\n",
    "data = np.random.randint(1, 101, size=1000)\n",
    "\n",
    "counts = Counter(data)\n",
    "\n",
    "top_10 = counts.most_common(10)\n",
    "\n",
    "print(\"Top 10 most frequent values in the array:\")\n",
    "for value, count in top_10:\n",
    "    print(f\"\\t- {value}: {count} occurrences\")"
   ]
  },
  {
   "cell_type": "code",
   "execution_count": null,
   "id": "dfc31736",
   "metadata": {},
   "outputs": [],
   "source": []
  },
  {
   "cell_type": "markdown",
   "id": "147e1fe0",
   "metadata": {},
   "source": [
    "#"
   ]
  }
 ],
 "metadata": {
  "kernelspec": {
   "display_name": "Python 3 (ipykernel)",
   "language": "python",
   "name": "python3"
  },
  "language_info": {
   "codemirror_mode": {
    "name": "ipython",
    "version": 3
   },
   "file_extension": ".py",
   "mimetype": "text/x-python",
   "name": "python",
   "nbconvert_exporter": "python",
   "pygments_lexer": "ipython3",
   "version": "3.11.5"
  }
 },
 "nbformat": 4,
 "nbformat_minor": 5
}
