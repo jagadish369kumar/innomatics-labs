{
 "cells": [
  {
   "cell_type": "code",
   "execution_count": 2,
   "id": "bef34bb8",
   "metadata": {},
   "outputs": [
    {
     "name": "stdout",
     "output_type": "stream",
     "text": [
      "['abc7', 'Ab7', 'D7', 'G7', 'F#m7']\n"
     ]
    }
   ],
   "source": [
    "# 17 to 33 (easy)\n",
    "\n",
    "#17 Create a function which concatenates the number 7 to the end of every chord in a list. Ignore all chords which already end with 7.\n",
    "\n",
    "\n",
    "chords = [\"abc7\", \"Ab7\", \"D7\", \"G\", \"F#m7\"]\n",
    "\n",
    "for i in range(len(chords)):\n",
    "    if not chords[i].endswith(\"7\"):\n",
    "        chords[i] += \"7\"\n",
    "\n",
    "print(chords)"
   ]
  },
  {
   "cell_type": "code",
   "execution_count": null,
   "id": "483fd5ab",
   "metadata": {},
   "outputs": [],
   "source": []
  },
  {
   "cell_type": "code",
   "execution_count": 3,
   "id": "549616ee",
   "metadata": {},
   "outputs": [
    {
     "name": "stdout",
     "output_type": "stream",
     "text": [
      "Today, I am feeling happy\n",
      "Today, I am feeling sad\n",
      "Today, I am feeling excited\n",
      "Today, I am feeling angry\n",
      "Today, I am feeling relaxed\n"
     ]
    }
   ],
   "source": [
    "#18 Create a function that takes in a current mood and return a sentence in the following format: \"Today, I am feeling {mood}\". However, if no argument is passed, return \"Today, I am feeling neutral\".\n",
    "\n",
    "\n",
    "moods = [\"happy\", \"sad\", \"excited\", \"angry\", \"relaxed\"]\n",
    "\n",
    "for mood in moods:\n",
    "    if mood == \"\":\n",
    "        print(\"Today, I am feeling neutral\")\n",
    "    else:\n",
    "        print(f\"Today, I am feeling {mood}\")"
   ]
  },
  {
   "cell_type": "code",
   "execution_count": null,
   "id": "c187d344",
   "metadata": {},
   "outputs": [],
   "source": []
  },
  {
   "cell_type": "code",
   "execution_count": 4,
   "id": "4d28e718",
   "metadata": {},
   "outputs": [
    {
     "name": "stdout",
     "output_type": "stream",
     "text": [
      "010110100\n"
     ]
    }
   ],
   "source": [
    "#19 Create a function that returns a base-2 (binary) representation of a base-10 (decimal) string number. To convert is simple: ((2) means base-2 and (10) means base-10) 010101001(2) = 1 + 8 + 32 + 128.Going from right to left, the value of the most right bit is 1, now from that every bit to the left will be x2 the value, value of an 8 bit binary numbers are (256, 128, 64, 32, 16, 8, 4, 2, 1).\n",
    "\n",
    "decimal_str = \"180\"\n",
    "\n",
    "# Convert the decimal string to an integer\n",
    "decimal_num = int(decimal_str)\n",
    "binary_str = \"\"\n",
    "\n",
    "# Initialize a list of binary values for each bit\n",
    "binary_values = [256, 128, 64, 32, 16, 8, 4, 2, 1]\n",
    "\n",
    "for value in binary_values:\n",
    "    if decimal_num >= value:\n",
    "        binary_str += \"1\"\n",
    "        decimal_num -= value\n",
    "    else:\n",
    "        binary_str += \"0\"\n",
    "\n",
    "print(binary_str)\n"
   ]
  },
  {
   "cell_type": "code",
   "execution_count": null,
   "id": "48ca32a9",
   "metadata": {},
   "outputs": [],
   "source": []
  },
  {
   "cell_type": "code",
   "execution_count": 5,
   "id": "a618a9f0",
   "metadata": {},
   "outputs": [
    {
     "name": "stdout",
     "output_type": "stream",
     "text": [
      "The mass of the water-filled cylinder is: 0.79 kg\n"
     ]
    }
   ],
   "source": [
    "#20 Given radius r and height h (in cm), calculate the mass of a cylinder when it's filled with water and the cylinder itself doesn't weigh anything. The desired output should be given in kg and rounded to two decimal places.\n",
    "\n",
    "# Input: radius 'r' (in cm) and height 'h' (in cm)\n",
    "radius = 5.0  # You can change the radius as needed\n",
    "height = 10.0  # You can change the height as needed\n",
    "\n",
    "# Define the density of water in kg/cm^3\n",
    "water_density = 1.0  # 1 kg/cm^3\n",
    "\n",
    "# Calculate the volume of the cylinder in cm^3\n",
    "cylinder_volume = 3.141592653589793 * (radius**2) * height\n",
    "\n",
    "# Convert the volume to liters (1 dm^3 = 1 liter)\n",
    "cylinder_volume_liters = cylinder_volume / 1000.0\n",
    "\n",
    "# Calculate the mass of water in kg\n",
    "mass_of_water_kg = cylinder_volume_liters * water_density\n",
    "\n",
    "# Round the mass to two decimal places\n",
    "rounded_mass = round(mass_of_water_kg, 2)\n",
    "\n",
    "print(f\"The mass of the water-filled cylinder is: {rounded_mass} kg\")"
   ]
  },
  {
   "cell_type": "code",
   "execution_count": null,
   "id": "65be877f",
   "metadata": {},
   "outputs": [],
   "source": []
  },
  {
   "cell_type": "code",
   "execution_count": 6,
   "id": "151fc8bf",
   "metadata": {},
   "outputs": [
    {
     "name": "stdout",
     "output_type": "stream",
     "text": [
      "It's Christmas Eve!\n"
     ]
    }
   ],
   "source": [
    "#21 Christmas Eve is almost upon us, so naturally we need to prepare some milk and cookies for Santa! Create a function that accepts a Date object and returns True if it's Christmas Eve (December 24th) and False otherwise.\n",
    "\n",
    "\n",
    "from datetime import date\n",
    "\n",
    "# Create a Date object\n",
    "given_date = date(2023, 12, 24)  # You can change the year as needed\n",
    "\n",
    "# Check if it's Christmas Eve\n",
    "is_christmas_eve = False\n",
    "\n",
    "if given_date.month == 12 and given_date.day == 24:\n",
    "    is_christmas_eve = True\n",
    "\n",
    "if is_christmas_eve:\n",
    "    print(\"It's Christmas Eve!\")\n",
    "else:\n",
    "    print(\"It's not Christmas Eve.\")"
   ]
  },
  {
   "cell_type": "code",
   "execution_count": null,
   "id": "b2b84a89",
   "metadata": {},
   "outputs": [],
   "source": []
  },
  {
   "cell_type": "code",
   "execution_count": 7,
   "id": "224035ad",
   "metadata": {},
   "outputs": [
    {
     "name": "stdout",
     "output_type": "stream",
     "text": [
      "It's a Pythagorean triplet!\n"
     ]
    }
   ],
   "source": [
    "#22 Create a function that validates whether three given integers form a Pythagorean triplet. The sum of the squares of the two smallest integers must equal the square of the largest number to be validated.\n",
    "\n",
    "# Input: Three integers a, b, and c\n",
    "a, b, c = 3, 4, 5  # You can change the values as needed\n",
    "\n",
    "# Create a list of the three integers\n",
    "numbers = [a, b, c]\n",
    "\n",
    "# Sort the list in ascending order\n",
    "numbers.sort()\n",
    "\n",
    "# Check if it's a Pythagorean triplet\n",
    "is_pythagorean = False\n",
    "\n",
    "if numbers[0] ** 2 + numbers[1] ** 2 == numbers[2] ** 2:\n",
    "    is_pythagorean = True\n",
    "\n",
    "if is_pythagorean:\n",
    "    print(\"It's a Pythagorean triplet!\")\n",
    "else:\n",
    "    print(\"It's not a Pythagorean triplet.\")"
   ]
  },
  {
   "cell_type": "code",
   "execution_count": null,
   "id": "7d75216c",
   "metadata": {},
   "outputs": [],
   "source": []
  },
  {
   "cell_type": "code",
   "execution_count": 8,
   "id": "5609d6dc",
   "metadata": {},
   "outputs": [
    {
     "name": "stdout",
     "output_type": "stream",
     "text": [
      "Number of ones in the binary representation: 3\n"
     ]
    }
   ],
   "source": [
    "#23 Count the amount of ones in the binary representation of an integer. For example, since 12 is 1100 in binary, the return value should be 2.\n",
    "\n",
    "\n",
    "# Input: an integer\n",
    "num = 14  # You can change the integer as needed\n",
    "\n",
    "# Convert the integer to its binary representation\n",
    "binary_str = bin(num)[2:]  # [2:] to remove the '0b' prefix\n",
    "\n",
    "# Initialize a count for the number of ones\n",
    "count_ones = 0\n",
    "\n",
    "# Iterate through the binary string\n",
    "for digit in binary_str:\n",
    "    if digit == '1':\n",
    "        count_ones += 1\n",
    "\n",
    "# Print the count of ones\n",
    "print(f\"Number of ones in the binary representation: {count_ones}\")\n"
   ]
  },
  {
   "cell_type": "code",
   "execution_count": null,
   "id": "8cc4dc29",
   "metadata": {},
   "outputs": [],
   "source": []
  },
  {
   "cell_type": "code",
   "execution_count": 9,
   "id": "a8fe1931",
   "metadata": {},
   "outputs": [
    {
     "name": "stdout",
     "output_type": "stream",
     "text": [
      "Number of vowels in the string: 4\n"
     ]
    }
   ],
   "source": [
    "#24 Create a function that takes a string and returns the number (count) of vowels contained within it.\n",
    "\n",
    "# Input: a string\n",
    "input_string = \"Hello, Vijay!\"  # You can change the string as needed\n",
    "\n",
    "# Convert the string to lowercase to simplify vowel checking\n",
    "input_string = input_string.lower()\n",
    "\n",
    "# Initialize a count for the number of vowels\n",
    "count_vowels = 0\n",
    "\n",
    "# Define a set of vowel characters\n",
    "vowels = {'a', 'e', 'i', 'o', 'u'}\n",
    "\n",
    "# Iterate through the string\n",
    "for char in input_string:\n",
    "    if char in vowels:\n",
    "        count_vowels += 1\n",
    "\n",
    "# Print the count of vowels\n",
    "print(f\"Number of vowels in the string: {count_vowels}\")"
   ]
  },
  {
   "cell_type": "code",
   "execution_count": null,
   "id": "3df472c1",
   "metadata": {},
   "outputs": [],
   "source": []
  },
  {
   "cell_type": "code",
   "execution_count": 10,
   "id": "3b7d7636",
   "metadata": {},
   "outputs": [
    {
     "name": "stdout",
     "output_type": "stream",
     "text": [
      "Character code of lowercased counterpart: 98\n"
     ]
    }
   ],
   "source": [
    "#25 Create a function that takes a single character as an argument and returns the char code of its lowercased / uppercased counterpart.\n",
    "\n",
    "\n",
    "# Input: a single character\n",
    "char = 'B'  # You can change the character as needed\n",
    "\n",
    "# Check if the character is uppercase\n",
    "if 'B' <= char <= 'Z':\n",
    "    counterpart_char = chr(ord(char) + 32)\n",
    "    print(f\"Character code of lowercased counterpart: {ord(counterpart_char)}\")\n",
    "elif 'a' <= char <= 'z':\n",
    "    counterpart_char = chr(ord(char) - 32)\n",
    "    print(f\"Character code of uppercased counterpart: {ord(counterpart_char)}\")\n",
    "else:\n",
    "    print(\"Invalid character. Please provide an alphabetic character.\")\n"
   ]
  },
  {
   "cell_type": "code",
   "execution_count": null,
   "id": "ad19c4d5",
   "metadata": {},
   "outputs": [],
   "source": []
  },
  {
   "cell_type": "code",
   "execution_count": 11,
   "id": "3e63a68e",
   "metadata": {},
   "outputs": [
    {
     "name": "stdout",
     "output_type": "stream",
     "text": [
      "The sum of numbers divisible by 3 in the range [1, 10] is: 18\n"
     ]
    }
   ],
   "source": [
    "#26 Create a function that takes three arguments a, b, c and returns the sum of the numbers that are evenly divided by c from the range a, b inclusive.\n",
    "\n",
    "# Input: a, b, and c\n",
    "a = 1\n",
    "b = 10\n",
    "c = 3\n",
    "\n",
    "# Initialize a variable to store the sum\n",
    "sum_divisible_by_c = 0\n",
    "\n",
    "# Use a for loop to iterate through the range [a, b]\n",
    "for number in range(a, b + 1):\n",
    "    if number % c == 0:\n",
    "        sum_divisible_by_c += number\n",
    "\n",
    "# Print the sum of numbers divisible by c\n",
    "print(f\"The sum of numbers divisible by {c} in the range [{a}, {b}] is: {sum_divisible_by_c}\")\n"
   ]
  },
  {
   "cell_type": "code",
   "execution_count": null,
   "id": "d3143d1d",
   "metadata": {},
   "outputs": [],
   "source": []
  },
  {
   "cell_type": "code",
   "execution_count": 12,
   "id": "bb247857",
   "metadata": {},
   "outputs": [
    {
     "name": "stdout",
     "output_type": "stream",
     "text": [
      "The house number on the opposite side of house 4 is: 7\n"
     ]
    }
   ],
   "source": [
    "#27 Mubashir was walking through a straight street with exactly n identical houses on both sides. House numbers in the street look like this:\n",
    "\n",
    "\n",
    "# Input: house number 'house' and length of the street 'n'\n",
    "house = 4\n",
    "n = 8\n",
    "\n",
    "# Calculate the house number on the opposite side\n",
    "opposite_house = 0\n",
    "\n",
    "if house % 2 == 0:\n",
    "    opposite_house = n - (house // 2) + 1\n",
    "else:\n",
    "    opposite_house = (house // 2) + 1\n",
    "\n",
    "# Print the house number on the opposite side\n",
    "print(f\"The house number on the opposite side of house {house} is: {opposite_house}\")\n"
   ]
  },
  {
   "cell_type": "code",
   "execution_count": null,
   "id": "4edbb615",
   "metadata": {},
   "outputs": [],
   "source": []
  },
  {
   "cell_type": "code",
   "execution_count": 13,
   "id": "44f82ada",
   "metadata": {},
   "outputs": [
    {
     "name": "stdout",
     "output_type": "stream",
     "text": [
      "The inequality expression is correct: True\n"
     ]
    }
   ],
   "source": [
    "#28 Create a function that returns True if a given inequality expression is correct and False otherwise.\n",
    "\n",
    "# Input: an inequality expression as a string\n",
    "inequality_expression = \"6 < 10\"  # You can change the expression as needed\n",
    "\n",
    "# Split the inequality expression into its components\n",
    "components = inequality_expression.split()\n",
    "\n",
    "# Check if the inequality expression is correct\n",
    "is_correct = False\n",
    "\n",
    "if len(components) == 3:\n",
    "    left_operand = float(components[0])\n",
    "    operator = components[1]\n",
    "    right_operand = float(components[2])\n",
    "\n",
    "    if operator == \"<\" and left_operand < right_operand:\n",
    "        is_correct = True\n",
    "    elif operator == \">\" and left_operand > right_operand:\n",
    "        is_correct = True\n",
    "    elif operator == \"<=\" and left_operand <= right_operand:\n",
    "        is_correct = True\n",
    "    elif operator == \">=\" and left_operand >= right_operand:\n",
    "        is_correct = True\n",
    "    elif operator == \"==\" and left_operand == right_operand:\n",
    "        is_correct = True\n",
    "    elif operator == \"!=\" and left_operand != right_operand:\n",
    "        is_correct = True\n",
    "        \n",
    "        # Print the result\n",
    "print(f\"The inequality expression is correct: {is_correct}\")"
   ]
  },
  {
   "cell_type": "code",
   "execution_count": null,
   "id": "38823564",
   "metadata": {},
   "outputs": [],
   "source": []
  },
  {
   "cell_type": "code",
   "execution_count": 14,
   "id": "05564c60",
   "metadata": {},
   "outputs": [
    {
     "name": "stdout",
     "output_type": "stream",
     "text": [
      "H*ll*, V*j*y!\n"
     ]
    }
   ],
   "source": [
    "#29 Create a function that replaces all the vowels in a string with a specified character.\n",
    "\n",
    "# Input: a string and the character to replace vowels with\n",
    "input_string = \"Hello, Vijay!\"  # You can change the string as needed\n",
    "replacement_char = '*'  # You can change the replacement character as needed\n",
    "\n",
    "# Initialize an empty string for the result\n",
    "result_string = \"\"\n",
    "\n",
    "# Define a set of vowel characters\n",
    "vowels = {'a', 'e', 'i', 'o', 'u', 'A', 'E', 'I', 'O', 'U'}\n",
    "\n",
    "# Iterate through the input string\n",
    "for char in input_string:\n",
    "    if char in vowels:\n",
    "        result_string += replacement_char\n",
    "    else:\n",
    "        result_string += char\n",
    "\n",
    "# Print the result string with vowels replaced\n",
    "print(result_string)"
   ]
  },
  {
   "cell_type": "code",
   "execution_count": null,
   "id": "0ea0a48a",
   "metadata": {},
   "outputs": [],
   "source": []
  },
  {
   "cell_type": "code",
   "execution_count": 15,
   "id": "4ce14dd6",
   "metadata": {},
   "outputs": [
    {
     "name": "stdout",
     "output_type": "stream",
     "text": [
      "***************8888\n"
     ]
    }
   ],
   "source": [
    "#30 Write a function that takes a credit card number and only displays the last four characters. The rest of the card number must be replaced by ************.\n",
    "\n",
    "# Input: a credit card number as a string\n",
    "credit_card_number = \"1234 5678 9876 8888\"  # You can change the credit card number as needed\n",
    "\n",
    "# Initialize an empty string for the result\n",
    "result_card_number = \"\"\n",
    "\n",
    "# Calculate the number of asterisks needed\n",
    "num_asterisks = len(credit_card_number) - 4\n",
    "\n",
    "# Use a for loop to create the masked card number\n",
    "for i in range(num_asterisks):\n",
    "    result_card_number += \"*\"\n",
    "\n",
    "# Add the last four characters to the result\n",
    "result_card_number += credit_card_number[-4:]\n",
    "\n",
    "# Print the result\n",
    "print(result_card_number)"
   ]
  },
  {
   "cell_type": "code",
   "execution_count": null,
   "id": "149d3f8b",
   "metadata": {},
   "outputs": [],
   "source": []
  },
  {
   "cell_type": "code",
   "execution_count": 16,
   "id": "22555f00",
   "metadata": {},
   "outputs": [
    {
     "name": "stdout",
     "output_type": "stream",
     "text": [
      "True\n"
     ]
    }
   ],
   "source": [
    "#31 Create a function that takes a string, checks if it has the same number of \"x\"s and \"o\"s and returns either True or False.\n",
    "\n",
    "\n",
    "# Input: a string\n",
    "input_string = \"xoxoxoxo\"  # You can change the string as needed\n",
    "\n",
    "# Initialize counts for \"x\" and \"o\"\n",
    "count_x = 0\n",
    "count_o = 0\n",
    "\n",
    "# Iterate through the characters in the string\n",
    "for char in input_string:\n",
    "    if char.lower() == 'x':\n",
    "        count_x += 1\n",
    "    elif char.lower() == 'o':\n",
    "        count_o += 1\n",
    "\n",
    "# Check if the counts of \"x\" and \"o\" are the same\n",
    "if count_x == count_o:\n",
    "    print(True)\n",
    "else:\n",
    "    print(False)"
   ]
  },
  {
   "cell_type": "code",
   "execution_count": null,
   "id": "d65d91e8",
   "metadata": {},
   "outputs": [],
   "source": []
  },
  {
   "cell_type": "code",
   "execution_count": 17,
   "id": "33d956e0",
   "metadata": {},
   "outputs": [
    {
     "name": "stdout",
     "output_type": "stream",
     "text": [
      "Vijay The\n"
     ]
    }
   ],
   "source": [
    "#32 Create a function that takes a string (will be a person's first and last name) and returns a string with the first and last name swapped.\n",
    "\n",
    "# Input: a string containing a person's first and last name\n",
    "full_name = \"The Vijay\"  # You can change the full name as needed\n",
    "\n",
    "# Split the full name into words\n",
    "name_parts = full_name.split()\n",
    "\n",
    "# Check if there are at least two words (first name and last name)\n",
    "if len(name_parts) >= 2:\n",
    "    # Swap the first and last name\n",
    "    swapped_name = name_parts[-1] + \" \" + name_parts[0]\n",
    "\n",
    "    print(swapped_name)\n",
    "else:\n",
    "    # Handle the case when there are not enough words\n",
    "    print(\"Invalid input. Please provide both a first and last name.\")"
   ]
  },
  {
   "cell_type": "code",
   "execution_count": null,
   "id": "7dd501fc",
   "metadata": {},
   "outputs": [],
   "source": []
  },
  {
   "cell_type": "code",
   "execution_count": 18,
   "id": "c5a2e84f",
   "metadata": {},
   "outputs": [
    {
     "name": "stdout",
     "output_type": "stream",
     "text": [
      "The integer that appears an odd number of times is: 7\n"
     ]
    }
   ],
   "source": [
    "#33 Create a function that takes a list and finds the integer which appears an odd number of times.\n",
    "\n",
    "# Input: a list of integers\n",
    "numbers = [1, 2, 3, 2, 1, 3, 4, 4, 5, 5, 7]  # You can change the list as needed\n",
    "\n",
    "# Initialize a dictionary to count the occurrences of each integer\n",
    "count_dict = {}\n",
    "\n",
    "# Use a for loop to count the occurrences of each integer\n",
    "for number in numbers:\n",
    "    if number in count_dict:\n",
    "        count_dict[number] += 1\n",
    "    else:\n",
    "        count_dict[number] = 1\n",
    "\n",
    "# Find the integer that appears an odd number of times\n",
    "odd_occurrence = None\n",
    "for number, count in count_dict.items():\n",
    "    if count % 2 == 1:\n",
    "        odd_occurrence = number\n",
    "        break\n",
    "\n",
    "if odd_occurrence is not None:\n",
    "    print(f\"The integer that appears an odd number of times is: {odd_occurrence}\")\n",
    "else:\n",
    "    print(\"No integer appears an odd number of times in the list.\")\n"
   ]
  },
  {
   "cell_type": "code",
   "execution_count": null,
   "id": "049848f3",
   "metadata": {},
   "outputs": [],
   "source": []
  },
  {
   "cell_type": "code",
   "execution_count": 20,
   "id": "7c104251",
   "metadata": {},
   "outputs": [
    {
     "name": "stdout",
     "output_type": "stream",
     "text": [
      "[14, 9]\n"
     ]
    }
   ],
   "source": [
    "#9 to 16 (medium)\n",
    "\n",
    "#9 Write a function that takes a list of numbers and returns a list with two elements:\n",
    "\n",
    "#The first element should be the sum of all even numbers in the list.\n",
    "#The second element should be the sum of all odd numbers in the list.\n",
    "\n",
    "# Input: a list of numbers\n",
    "numbers = [1, 4, 3, 4, 5, 6]  # You can change the list as needed\n",
    "\n",
    "# Initialize variables to store the sums of even and odd numbers\n",
    "sum_even = 0\n",
    "sum_odd = 0\n",
    "\n",
    "# Use a for loop to calculate the sums\n",
    "for number in numbers:\n",
    "    if number % 2 == 0:\n",
    "        sum_even += number\n",
    "    else:\n",
    "        sum_odd += number\n",
    "\n",
    "# Create a list with the two sums\n",
    "sums_list = [sum_even, sum_odd]\n",
    "\n",
    "print(sums_list)\n"
   ]
  },
  {
   "cell_type": "code",
   "execution_count": null,
   "id": "9253b916",
   "metadata": {},
   "outputs": [],
   "source": []
  },
  {
   "cell_type": "code",
   "execution_count": 21,
   "id": "0dcd08bc",
   "metadata": {},
   "outputs": [
    {
     "name": "stdout",
     "output_type": "stream",
     "text": [
      "7.0\n"
     ]
    }
   ],
   "source": [
    "#10 In cricket, an over consists of six deliveries a bowler bowls from one end. Create a function that takes the number of balls bowled by a bowler and calculates the number of overs and balls bowled by him/her. Return the value as a float, in the format overs.balls.\n",
    "\n",
    "# Input: the number of balls bowled by a bowler\n",
    "balls_bowled = 24  # You can change the number of balls as needed\n",
    "\n",
    "# Initialize variables for overs and remaining balls\n",
    "overs = 3\n",
    "remaining_balls = balls_bowled\n",
    "\n",
    "# Use a for loop to calculate the overs and remaining balls\n",
    "for _ in range(balls_bowled):\n",
    "    if remaining_balls >= 6:\n",
    "        overs += 1\n",
    "        remaining_balls -= 6\n",
    "\n",
    "# Create a float value in the format overs.balls\n",
    "overs_and_balls = float(f\"{overs}.{remaining_balls}\")\n",
    "\n",
    "print(overs_and_balls)"
   ]
  },
  {
   "cell_type": "code",
   "execution_count": null,
   "id": "c5406a8e",
   "metadata": {},
   "outputs": [],
   "source": []
  },
  {
   "cell_type": "code",
   "execution_count": 22,
   "id": "8aff1ff7",
   "metadata": {},
   "outputs": [
    {
     "name": "stdout",
     "output_type": "stream",
     "text": [
      "Rambo is here!\n"
     ]
    }
   ],
   "source": [
    "#11 Your spouse is not concerned with the loss of material possessions but rather with his/her favorite pet. Is it gone?! Given a dictionary of the stolen items and a string in lowercase representing the name of the pet (e.g. \"rambo\"), return:\n",
    "\n",
    "# Input: a dictionary of stolen items and a lowercase string representing the pet's name\n",
    "stolen_items = {\n",
    "    \"jewelry\": 5000,\n",
    "    \"electronics\": 2000,\n",
    "    \"cash\": 1000\n",
    "}\n",
    "\n",
    "pet_name = \"rambo\"  # You can change the pet's name as needed\n",
    "\n",
    "# Convert the pet's name to title case\n",
    "pet_name_title = pet_name.capitalize()\n",
    "\n",
    "# Check if the pet's name is in the stolen items\n",
    "is_pet_stolen = False\n",
    "for item in stolen_items:\n",
    "    if item == pet_name_title:\n",
    "        is_pet_stolen = True\n",
    "        break\n",
    "\n",
    "# Return an appropriate message\n",
    "if is_pet_stolen:\n",
    "    print(f\"{pet_name_title} is gone...\")\n",
    "else:\n",
    "    print(f\"{pet_name_title} is here!\")\n",
    "    \n"
   ]
  },
  {
   "cell_type": "code",
   "execution_count": null,
   "id": "c00ead41",
   "metadata": {},
   "outputs": [],
   "source": []
  },
  {
   "cell_type": "code",
   "execution_count": 23,
   "id": "d7ad3c4f",
   "metadata": {},
   "outputs": [
    {
     "name": "stdout",
     "output_type": "stream",
     "text": [
      "50.00000000000001\n"
     ]
    }
   ],
   "source": [
    "#12 Imagine a circle and two squares: a smaller and a bigger one. For the smaller one, the circle is a circumcircle and for the bigger one, an incircle.Scale Create a function, that takes an integer (radius of the circle) and returns the difference of the areas of the two squares.\n",
    "\n",
    "\n",
    "# Input: an integer (radius of the circle)\n",
    "radius = 5  # You can change the radius as needed\n",
    "\n",
    "# Calculate the side length of the smaller square (using the radius as the diagonal)\n",
    "side_length_small_square = (2 * radius) / (2 ** 0.5)\n",
    "\n",
    "# Calculate the side length of the bigger square (using the radius as the inradius)\n",
    "side_length_big_square = 2 * radius\n",
    "\n",
    "# Calculate the areas of the two squares\n",
    "area_small_square = side_length_small_square ** 2\n",
    "area_big_square = side_length_big_square ** 2\n",
    "\n",
    "# Calculate the difference in areas\n",
    "area_difference = area_big_square - area_small_square\n",
    "\n",
    "print(area_difference)"
   ]
  },
  {
   "cell_type": "code",
   "execution_count": null,
   "id": "5e7b11fe",
   "metadata": {},
   "outputs": [],
   "source": []
  },
  {
   "cell_type": "code",
   "execution_count": 24,
   "id": "d9f0fdd5",
   "metadata": {},
   "outputs": [
    {
     "name": "stdout",
     "output_type": "stream",
     "text": [
      "[{'name': 'John', 'top_note': 5}, {'name': 'Alice', 'top_note': 8}, {'name': 'Bob', 'top_note': 7}]\n"
     ]
    }
   ],
   "source": [
    "#13 Create a function that takes a dictionary of objects like { \"name\": \"John\", \"notes\": [3, 5, 4] } and returns a dictionary of objects like { \"name\": \"John\", \"top_note\": 5 }.\n",
    "\n",
    "# Input: a list of dictionaries with names and notes\n",
    "people = [\n",
    "    {\"name\": \"John\", \"notes\": [3, 5, 4]},\n",
    "    {\"name\": \"Alice\", \"notes\": [4, 6, 8]},\n",
    "    {\"name\": \"Bob\", \"notes\": [7, 5, 6]}\n",
    "]\n",
    "\n",
    "# Initialize a list to store the new dictionaries\n",
    "new_people = []\n",
    "\n",
    "# Iterate through the list of dictionaries\n",
    "for person in people:\n",
    "    name = person[\"name\"]\n",
    "    notes = person[\"notes\"]\n",
    "    \n",
    "    # Find the top note (maximum note)\n",
    "    top_note = max(notes)\n",
    "    \n",
    "    # Create a new dictionary with the name and top_note\n",
    "    new_person = {\"name\": name, \"top_note\": top_note}\n",
    "    \n",
    "    # Append the new dictionary to the list\n",
    "    new_people.append(new_person)\n",
    "\n",
    "print(new_people)"
   ]
  },
  {
   "cell_type": "code",
   "execution_count": null,
   "id": "d54f3595",
   "metadata": {},
   "outputs": [],
   "source": []
  },
  {
   "cell_type": "code",
   "execution_count": 25,
   "id": "2c1cf662",
   "metadata": {},
   "outputs": [
    {
     "name": "stdout",
     "output_type": "stream",
     "text": [
      "1000\n"
     ]
    }
   ],
   "source": [
    "#14 You work for a manufacturer, and have been asked to calculate the total profit made on the sales of a product. You are given a dictionary containing the cost price per unit (in dollars), sell price per unit (in dollars), and the starting inventory. Return the total profit made, rounded to the nearest dollar.\n",
    "\n",
    "# Input: a dictionary containing cost price, sell price, and starting inventory\n",
    "product_info = {\n",
    "    \"cost_price\": 10,  # cost price per unit in dollars\n",
    "    \"sell_price\": 20,  # sell price per unit in dollars\n",
    "    \"inventory\": 100  # starting inventory\n",
    "}\n",
    "\n",
    "# Calculate the profit per unit\n",
    "profit_per_unit = product_info[\"sell_price\"] - product_info[\"cost_price\"]\n",
    "\n",
    "# Calculate the total profit\n",
    "total_profit = profit_per_unit * product_info[\"inventory\"]\n",
    "\n",
    "# Round the total profit to the nearest dollar\n",
    "rounded_total_profit = round(total_profit)\n",
    "\n",
    "print(rounded_total_profit)"
   ]
  },
  {
   "cell_type": "code",
   "execution_count": null,
   "id": "64e0dd94",
   "metadata": {},
   "outputs": [],
   "source": []
  },
  {
   "cell_type": "code",
   "execution_count": 26,
   "id": "7a5ffa00",
   "metadata": {},
   "outputs": [
    {
     "name": "stdout",
     "output_type": "stream",
     "text": [
      "The proportion of United States's area to the total world's landmass is: 6.60%\n"
     ]
    }
   ],
   "source": [
    "#15 Create a function that takes a country's name and its area as arguments and returns the area of the country's proportion of the total world's landmass.\n",
    "\n",
    "# Input: a country's name and its area in square kilometers\n",
    "country_name = \"United States\"  # You can change the country name as needed\n",
    "country_area = 9826675  # You can change the country's area as needed\n",
    "\n",
    "# Define the total world's landmass in square kilometers (for example)\n",
    "total_world_landmass = 148940000  # You can change this value to a more accurate estimate\n",
    "\n",
    "# Calculate the country's proportion of the total world's landmass\n",
    "proportion = (country_area / total_world_landmass) * 100\n",
    "\n",
    "print(f\"The proportion of {country_name}'s area to the total world's landmass is: {proportion:.2f}%\")\n"
   ]
  },
  {
   "cell_type": "code",
   "execution_count": null,
   "id": "96d33cc7",
   "metadata": {},
   "outputs": [],
   "source": []
  },
  {
   "cell_type": "code",
   "execution_count": 27,
   "id": "257e7267",
   "metadata": {},
   "outputs": [
    {
     "name": "stdout",
     "output_type": "stream",
     "text": [
      "15\n"
     ]
    }
   ],
   "source": [
    "#16 You are given two numbers a and b. Create a function that returns the next number greater than a and b and divisible by b.\n",
    "\n",
    "\n",
    "# Input: two numbers 'a' and 'b'\n",
    "a = 13  # You can change the value of 'a' as needed\n",
    "b = 3   # You can change the value of 'b' as needed\n",
    "\n",
    "# Use a for loop to find the next number\n",
    "for num in range(a + 1, a + b + 1):\n",
    "    if num % b == 0:\n",
    "        next_number = num\n",
    "        break\n",
    "\n",
    "print(next_number)"
   ]
  },
  {
   "cell_type": "code",
   "execution_count": null,
   "id": "dcc1ffd3",
   "metadata": {},
   "outputs": [],
   "source": []
  },
  {
   "cell_type": "code",
   "execution_count": null,
   "id": "a18131b0",
   "metadata": {},
   "outputs": [],
   "source": []
  },
  {
   "cell_type": "code",
   "execution_count": null,
   "id": "32fbc37b",
   "metadata": {},
   "outputs": [],
   "source": []
  },
  {
   "cell_type": "code",
   "execution_count": null,
   "id": "2fd9505e",
   "metadata": {},
   "outputs": [],
   "source": []
  },
  {
   "cell_type": "code",
   "execution_count": null,
   "id": "5efce72e",
   "metadata": {},
   "outputs": [],
   "source": []
  }
 ],
 "metadata": {
  "kernelspec": {
   "display_name": "Python 3 (ipykernel)",
   "language": "python",
   "name": "python3"
  },
  "language_info": {
   "codemirror_mode": {
    "name": "ipython",
    "version": 3
   },
   "file_extension": ".py",
   "mimetype": "text/x-python",
   "name": "python",
   "nbconvert_exporter": "python",
   "pygments_lexer": "ipython3",
   "version": "3.11.5"
  }
 },
 "nbformat": 4,
 "nbformat_minor": 5
}
